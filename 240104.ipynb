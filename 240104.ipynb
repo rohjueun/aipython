{
  "nbformat": 4,
  "nbformat_minor": 0,
  "metadata": {
    "colab": {
      "provenance": [],
      "authorship_tag": "ABX9TyOf5OiUi+OKl16t/aG30Qt3",
      "include_colab_link": true
    },
    "kernelspec": {
      "name": "python3",
      "display_name": "Python 3"
    },
    "language_info": {
      "name": "python"
    }
  },
  "cells": [
    {
      "cell_type": "markdown",
      "metadata": {
        "id": "view-in-github",
        "colab_type": "text"
      },
      "source": [
        "<a href=\"https://colab.research.google.com/github/rohjueun/aipython/blob/main/240104.ipynb\" target=\"_parent\"><img src=\"https://colab.research.google.com/assets/colab-badge.svg\" alt=\"Open In Colab\"/></a>"
      ]
    },
    {
      "cell_type": "code",
      "execution_count": 15,
      "metadata": {
        "colab": {
          "base_uri": "https://localhost:8080/"
        },
        "id": "T6vDauVVDEhr",
        "outputId": "28be252c-85cd-4e98-d9e3-da78ad528c24"
      },
      "outputs": [
        {
          "output_type": "stream",
          "name": "stdout",
          "text": [
            "학생의 점수를 입력하세요: 90\n",
            "학생의 점수를 입력하세요: 70\n",
            "학생의 점수를 입력하세요: 30\n",
            "학생의 점수를 입력하세요: x\n",
            "입력 데이터 출력: [90, 70, 30]\n",
            "합계 190\n",
            "인원 수 3\n",
            "평균 63.333333333333336\n"
          ]
        }
      ],
      "source": [
        "#1 (두가지 방법으로 문제를 풀어보았습니다.)\n",
        "score = []\n",
        "while True:\n",
        "    num = input(\"학생의 점수를 입력하세요: \")\n",
        "    try:\n",
        "        num = int(num)  # 입력값을 정수로 변환\n",
        "        score.append(num)\n",
        "    except ValueError:\n",
        "        break  # 입력 종료\n",
        "print(\"입력 데이터 출력:\",score)\n",
        "print('합계',sum(score))\n",
        "print('인원 수', len(score))\n",
        "print('평균',sum(score)/len(score))\n",
        ""
      ]
    },
    {
      "cell_type": "code",
      "source": [
        "score = []\n",
        "while True:\n",
        "    num = input(\"학생의 점수를 입력하세요:\")\n",
        "    if num.isdigit():\n",
        "        num  = int(num)\n",
        "        score.append(num)\n",
        "    else:\n",
        "        break  # 입력 종료\n",
        "print(\"입력 데이터 출력:\",score)\n",
        "print('합계',sum(score))\n",
        "print('인원 수', len(score))\n",
        "print('평균',sum(score)/len(score))"
      ],
      "metadata": {
        "colab": {
          "base_uri": "https://localhost:8080/"
        },
        "id": "rlNy2UyMD56i",
        "outputId": "83de353d-01be-469d-d4b0-6889c8f4a597"
      },
      "execution_count": 25,
      "outputs": [
        {
          "output_type": "stream",
          "name": "stdout",
          "text": [
            "학생의 점수를 입력하세요:90\n",
            "학생의 점수를 입력하세요:70\n",
            "학생의 점수를 입력하세요:30\n",
            "학생의 점수를 입력하세요:c\n",
            "입력 데이터 출력: [90, 70, 30]\n",
            "합계 190\n",
            "인원 수 3\n",
            "평균 63.333333333333336\n"
          ]
        }
      ]
    },
    {
      "cell_type": "code",
      "source": [
        "'''\n",
        "for i in range(1,5):\n",
        "  print(i,'welcome')\n",
        "  for j in range(1,4):\n",
        "    print(j,'Hello')\n",
        "print(\"Done\")\n",
        "'''"
      ],
      "metadata": {
        "colab": {
          "base_uri": "https://localhost:8080/"
        },
        "id": "0YvCXn_RFfGi",
        "outputId": "19fb0fd2-67ea-4437-e1e0-8937c8f21d68"
      },
      "execution_count": 21,
      "outputs": [
        {
          "output_type": "stream",
          "name": "stdout",
          "text": [
            "1 welcome\n",
            "1 Hello\n",
            "2 Hello\n",
            "3 Hello\n",
            "2 welcome\n",
            "1 Hello\n",
            "2 Hello\n",
            "3 Hello\n",
            "3 welcome\n",
            "1 Hello\n",
            "2 Hello\n",
            "3 Hello\n",
            "4 welcome\n",
            "1 Hello\n",
            "2 Hello\n",
            "3 Hello\n",
            "Done\n"
          ]
        }
      ]
    },
    {
      "cell_type": "code",
      "source": [
        "'''\n",
        "score = [[29,28,27,30],\n",
        "         [30,20,27,29],\n",
        "         [23,25,29,30]]\n",
        "for i in range(len(score)):\n",
        "  for j in range(len(score[0])):\n",
        "    print(score[i][j], end =\" \")\n",
        "  print()\n",
        "  '''"
      ],
      "metadata": {
        "colab": {
          "base_uri": "https://localhost:8080/"
        },
        "id": "EcKJykXHIcFS",
        "outputId": "c95a520f-1816-4f9f-8d40-440ce86b1baa"
      },
      "execution_count": 23,
      "outputs": [
        {
          "output_type": "stream",
          "name": "stdout",
          "text": [
            "29 28 27 30 \n",
            "30 20 27 29 \n",
            "23 25 29 30 \n"
          ]
        }
      ]
    },
    {
      "cell_type": "code",
      "source": [],
      "metadata": {
        "id": "BgmF9zQRaIf2"
      },
      "execution_count": null,
      "outputs": []
    }
  ]
}